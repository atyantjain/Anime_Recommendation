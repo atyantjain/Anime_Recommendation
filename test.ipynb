{
 "cells": [
  {
   "cell_type": "code",
   "execution_count": null,
   "id": "a0830fbd",
   "metadata": {
    "vscode": {
     "languageId": "plaintext"
    }
   },
   "outputs": [],
   "source": [
    "import pandas as pd\n",
    "\n",
    "# Load your anime dataset\n",
    "df = pd.read_csv(\"top_anime_data.csv\")\n",
    "\n",
    "# Manual composer map: extend this as needed\n",
    "known_composers = {\n",
    "    \"Steins;Gate\": \"Takeshi Abo\",\n",
    "    \"Shingeki no Kyojin Season 3 Part 2\": \"Hiroyuki Sawano\",\n",
    "    \"Clannad: After Story\": \"Shinji Orito\",\n",
    "    \"Kimi no Na wa.\": \"RADWIMPS\",\n",
    "    \"Suzume no Tojimari\": \"RADWIMPS & Kazuma Jinnouchi\",\n",
    "    \"Kimetsu no Yaiba Movie: Mugen Ressha-hen\": \"Yuki Kajiura & Go Shiina\",\n",
    "    \"Made in Abyss: Retsujitsu no Ougonkyou\": \"Kevin Penkin\",\n",
    "    \"Akira\": \"Geinoh Yamashirogumi\",\n",
    "    \"Samurai Champloo\": \"Nujabes, Fat Jon, Force of Nature, Tsutchie\",\n",
    "    \"Cowboy Bebop\": \"Yoko Kanno\",\n",
    "    \"Death Note\": \"Yoshihisa Hirano & Hideki Taniuchi\",\n",
    "    \"Fruits Basket: The Final\": \"Masaru Yokoyama\",\n",
    "    \"Koe no Katachi\": \"Kensuke Ushio\",\n",
    "    \"Violet Evergarden\": \"Evan Call\",\n",
    "    \"Hotaru no Haka\": \"Michio Mamiya\",\n",
    "    \"Code Geass: Hangyaku no Lelouch R2\": \"Kotaro Nakagawa, Hitomi Kuroishi\",\n",
    "    \"Mononoke Hime\": \"Joe Hisaishi\",\n",
    "    \"Sen to Chihiro no Kamikakushi\": \"Joe Hisaishi\",\n",
    "    \"Tenki no Ko\": \"RADWIMPS\",\n",
    "    \"Kaijuu 8-gou\": \"Yuta Bandoh\",\n",
    "}\n",
    "\n",
    "# Fill composer field if a known title is matched\n",
    "for idx, row in df.iterrows():\n",
    "    title = row[\"title\"]\n",
    "    for known_title, composer in known_composers.items():\n",
    "        if known_title.lower() in title.lower():\n",
    "            df.at[idx, \"composer\"] = composer\n",
    "            print(f\"🎵 Composer added for: {title} → {composer}\")\n",
    "            break\n",
    "\n",
    "# Save updated dataset\n",
    "df.to_csv(\"anime_data_with_manual_composers.csv\", index=False)\n",
    "print(\"✅ Composer data populated and saved to anime_data_with_manual_composers.csv\")\n"
   ]
  }
 ],
 "metadata": {
  "language_info": {
   "name": "python"
  }
 },
 "nbformat": 4,
 "nbformat_minor": 5
}
